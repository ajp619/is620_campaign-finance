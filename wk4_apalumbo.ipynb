{
 "cells": [
  {
   "cell_type": "markdown",
   "metadata": {},
   "source": [
    "# Week 4 Assignment\n",
    "Aaron Palumbo || IS620"
   ]
  },
  {
   "cell_type": "markdown",
   "metadata": {},
   "source": [
    "## Deliverables:\n",
    "\n",
    "Centrality measures can be used to predict (positive or negative) outcomes for a node.\n",
    "\n",
    "Your task in this week’s assignment is to identify an interesting set of network data that is available on the web (either through web scraping or web APIs) that could be used for analyzing and comparing centrality measures across nodes.  As an additional constraint, there should be at least one categorical variable available for each node (such as “Male” or “Female”; “Republican”, “Democrat,” or “Undecided”, etc.)\n",
    "\n",
    "In addition to identifying your data source, you should create a high level plan that describes how you would load the data for analysis, and describe a hypothetical outcome that could be predicted from comparing degree centrality across categorical groups. \n",
    "\n",
    "For this week’s assignment, you are not required to actually load or analyze the data.  Please see also Project 1 below.\n",
    "\n",
    "You may work in a small group on the assignment.   You should post your document to GitHub by end of day on Sunday September 20th.\n"
   ]
  },
  {
   "cell_type": "markdown",
   "metadata": {},
   "source": [
    "## Proposed data source"
   ]
  },
  {
   "cell_type": "markdown",
   "metadata": {},
   "source": [
    "Because we're heading into a presidential election, I thought I would be interesting to take a look at campaign finances. The federal election commission has data on campaign finances here: http://www.fec.gov/data/DataCatalog.do?format=html.\n",
    "\n",
    "Let's take a look at some of the information available:"
   ]
  },
  {
   "cell_type": "markdown",
   "metadata": {},
   "source": [
    "From the website:\n",
    "\n",
    "**Committees (Committee Master)**\n",
    "\n",
    "The committee master file contains one record for each committee registered with the Federal Election Commission. This includes federal political action committees and party committees, campaign committees for presidential, house and senate candidates, as well as groups or organizations who are spending money for or against candidates for federal office.\n",
    "\n",
    "The file contains basic information about the committees. The ID number the Commission assigned to the committee is first, along with the name of the committee, the sponsor, where appropriate, the treasurer's name and the committee's address. The file also includes information about what type of committee is being described, along with the candidate's ID number if it is a campaign committee. A comma delimited header file is available on this file's data dictionary page.\n",
    "\n",
    "**Candidates (Candidate Master)**\n",
    "\n",
    "The candidate master file contains one record for each candidate who has either registered with the Federal Election Commission or appeared on a ballot list prepared by a state elections office.\n",
    "\n",
    "The file contains basic information about the candidate, including name, party, whether the candidate is an incumbent, challenger, or involved in an open seat, address, state and district in which the candidate is running and the year of the election for which the candidate is registered. (Note that incumbent/challenger status is dynamic in the current election cycle and there may be delays in identifying districts that will involve open seats. The file also includes the ID number assigned to the candidate by the FEC which is used in tracking campaign finance information about the campaign, as well as the ID number of the candidate's principal campaign committee. A comma delimited header file is available on this file's data dictionary page.\n",
    "\n",
    "**Linkages (Candidate-Committee Linkage)**\n",
    "\n",
    "This file contains one record for each candidate to committee linakge.\n",
    "\n",
    "**Itemized Records (Any Transaction from One Committee to Another)**\n",
    "\n",
    "The itemized records (miscellaneous transactions) file contains all transactions (contributions, transfers, etc. among federal committees). It contains all data in the itemized committee contributions file plus PAC contributions to party committees, party transfers from state committee to state committee, and party transfers from national committee to state committee. Note that this file only includes federal transfers not soft money transactions. A comma delimited header file is available on this file's data dictionary page.\n",
    "\n",
    "**Contributions to Candidates (Contributions to Candidates (and other expenditures) from Committees)**\n",
    "\n",
    "The itemized committee contributions file contains each contribution or independent expenditure made by a PAC, party committee, candidate committee, or other federal committee to a candidate during the two-year election cycle. It includes the ID number of the contributing committee and the ID number of the recipient. You will need to use the committee master and candidate master files in conjunction with this file to set up a relational database to analyze these data. A comma delimited header file is available on this file's data dictionary page.\n",
    "\n",
    "**Individual Contributions (Contributions by Individuals)**\n",
    "\n",
    "The individual contributions file contains each contribution from an individual to a federal committee if the contribution was at least $200. It includes the ID number of the committee receiving the contribution, the name, city, state, zip code, and place of business of the contributor along with the date and amount of the contribution. NOTE: this file can be very large file. A comma delimited header file is available on this file's data dictionary page.\n",
    "\n",
    "**Operating Expenditures**\n",
    "\n",
    "The Operating Expenditures file contains disbursements reported on FEC Form 3 Line 17, FEC Form 3P Line 23and FEC Form 3X Lines 21(a)(i), 21(a)(ii) and 21(b). Operating expenditures disclosed by electronic filers are available for the current election cycle and for election cycles through 2004. Operating expenditures disclosed by paper filers, excluding Form 3P, are available for the current election cycle and for election cycles through 2006. Please note, operating expenditures disclosed by paper filers during the 2006 cycle are only available from reports filed in October 2005 and later. NOTE: this file can be very large file. A comma delimited header file is available on this file's data dictionary page. "
   ]
  },
  {
   "cell_type": "markdown",
   "metadata": {},
   "source": [
    "## Cursury look at the data"
   ]
  },
  {
   "cell_type": "markdown",
   "metadata": {},
   "source": [
    "I know we aren't required to load or analyze this data, but let's just take a quick look to make sure we *could* work with it ..."
   ]
  },
  {
   "cell_type": "code",
   "execution_count": 242,
   "metadata": {
    "collapsed": true
   },
   "outputs": [],
   "source": [
    "from IPython import display\n",
    "import ftplib\n",
    "import os\n",
    "import time\n",
    "import pandas as pd"
   ]
  },
  {
   "cell_type": "code",
   "execution_count": 243,
   "metadata": {
    "collapsed": false
   },
   "outputs": [],
   "source": [
    "## Download from fec.gov\n",
    "HOST = 'ftp.fec.gov'\n",
    "DIR = '/FEC/2016/'\n",
    "ZIP_FILE_LIST = ['cm16.zip', 'cn16.zip', 'ccl16.zip', 'oth16.zip', \n",
    "                 'pas216.zip', 'indiv16.zip', 'oppexp16.zip']\n",
    "TXT_FILE_LIST = ['cm.txt', 'cn.txt', 'ccl.txt', 'itoth.txt',\n",
    "                 'itpas2.txt', 'itcont.txt', 'oppexp.txt']\n",
    "CURRENT_FILES = os.listdir('.')\n",
    "\n",
    "DOWNLOAD_LIST = [z for (z, t) in zip(ZIP_FILE_LIST, TXT_FILE_LIST)\n",
    "                 if z not in CURRENT_FILES and t not in CURRENT_FILES]\n",
    "\n",
    "if len(DOWNLOAD_LIST) > 0:\n",
    "    ftp = ftplib.FTP(HOST)\n",
    "    ftp.login()\n",
    "    ftp.cwd(DIR)\n",
    "    for FILE in DOWNLOAD_LIST:\n",
    "        ftp.retrbinary('RETR ' + FILE, open(FILE, 'wb').write)\n",
    "        with open(\"README.txt\", \"a\") as myfile:\n",
    "            myfile.write(\"\\n\" + FILE + \" downloaded on \" + time.strftime(\"%d/%m/%Y\"))\n",
    "    ftp.quit()"
   ]
  },
  {
   "cell_type": "code",
   "execution_count": 244,
   "metadata": {
    "collapsed": false
   },
   "outputs": [],
   "source": [
    "## Read into data frames\n",
    "dfList = []\n",
    "for f in TXT_FILE_LIST:\n",
    "    dfList.append(pd.read_csv(f, sep='|', header=None))"
   ]
  },
  {
   "cell_type": "markdown",
   "metadata": {},
   "source": [
    "Let's do a quick search to see what we have:"
   ]
  },
  {
   "cell_type": "code",
   "execution_count": 245,
   "metadata": {
    "collapsed": false
   },
   "outputs": [
    {
     "data": {
      "text/html": [
       "<div>\n",
       "<table border=\"1\" class=\"dataframe\">\n",
       "  <thead>\n",
       "    <tr style=\"text-align: right;\">\n",
       "      <th></th>\n",
       "      <th>0</th>\n",
       "      <th>1</th>\n",
       "      <th>2</th>\n",
       "      <th>3</th>\n",
       "      <th>4</th>\n",
       "      <th>5</th>\n",
       "      <th>6</th>\n",
       "      <th>7</th>\n",
       "      <th>8</th>\n",
       "      <th>9</th>\n",
       "      <th>10</th>\n",
       "      <th>11</th>\n",
       "      <th>12</th>\n",
       "      <th>13</th>\n",
       "      <th>14</th>\n",
       "    </tr>\n",
       "  </thead>\n",
       "  <tbody>\n",
       "    <tr>\n",
       "      <th>3305</th>\n",
       "      <td>P60007242</td>\n",
       "      <td>FIORINA, CARLY</td>\n",
       "      <td>REP</td>\n",
       "      <td>2016</td>\n",
       "      <td>US</td>\n",
       "      <td>P</td>\n",
       "      <td>0</td>\n",
       "      <td>O</td>\n",
       "      <td>C</td>\n",
       "      <td>C00577312</td>\n",
       "      <td>1020 N FAIRFAX ST STE 200</td>\n",
       "      <td>NaN</td>\n",
       "      <td>ALEXANDRIA</td>\n",
       "      <td>VA</td>\n",
       "      <td>22314</td>\n",
       "    </tr>\n",
       "    <tr>\n",
       "      <th>4257</th>\n",
       "      <td>S0CA00330</td>\n",
       "      <td>FIORINA, CARLY</td>\n",
       "      <td>REP</td>\n",
       "      <td>2010</td>\n",
       "      <td>CA</td>\n",
       "      <td>S</td>\n",
       "      <td>0</td>\n",
       "      <td>C</td>\n",
       "      <td>P</td>\n",
       "      <td>C00469924</td>\n",
       "      <td>455 CAPITOL MALL SUITE 801</td>\n",
       "      <td>NaN</td>\n",
       "      <td>SACRAMENTO</td>\n",
       "      <td>CA</td>\n",
       "      <td>95814</td>\n",
       "    </tr>\n",
       "  </tbody>\n",
       "</table>\n",
       "</div>"
      ],
      "text/plain": [
       "             0               1    2     3   4  5   6  7  8          9   \\\n",
       "3305  P60007242  FIORINA, CARLY  REP  2016  US  P   0  O  C  C00577312   \n",
       "4257  S0CA00330  FIORINA, CARLY  REP  2010  CA  S   0  C  P  C00469924   \n",
       "\n",
       "                              10   11          12  13     14  \n",
       "3305   1020 N FAIRFAX ST STE 200  NaN  ALEXANDRIA  VA  22314  \n",
       "4257  455 CAPITOL MALL SUITE 801  NaN  SACRAMENTO  CA  95814  "
      ]
     },
     "metadata": {},
     "output_type": "display_data"
    },
    {
     "data": {
      "text/html": [
       "<div>\n",
       "<table border=\"1\" class=\"dataframe\">\n",
       "  <thead>\n",
       "    <tr style=\"text-align: right;\">\n",
       "      <th></th>\n",
       "      <th>0</th>\n",
       "      <th>1</th>\n",
       "      <th>2</th>\n",
       "      <th>3</th>\n",
       "      <th>4</th>\n",
       "      <th>5</th>\n",
       "      <th>6</th>\n",
       "      <th>7</th>\n",
       "      <th>8</th>\n",
       "      <th>9</th>\n",
       "      <th>10</th>\n",
       "      <th>11</th>\n",
       "      <th>12</th>\n",
       "      <th>13</th>\n",
       "      <th>14</th>\n",
       "    </tr>\n",
       "  </thead>\n",
       "  <tbody>\n",
       "    <tr>\n",
       "      <th>3502</th>\n",
       "      <td>C00417386</td>\n",
       "      <td>WOMBLE CARLYLE SANDRIDGE &amp; RICE LLP POLITICAL ...</td>\n",
       "      <td>FOSTER, HAILS</td>\n",
       "      <td>ONE WEST FOURTH STREET</td>\n",
       "      <td>NaN</td>\n",
       "      <td>WINSTON SALEM</td>\n",
       "      <td>NC</td>\n",
       "      <td>27101</td>\n",
       "      <td>B</td>\n",
       "      <td>Q</td>\n",
       "      <td>NaN</td>\n",
       "      <td>Q</td>\n",
       "      <td>NaN</td>\n",
       "      <td>NaN</td>\n",
       "      <td>NaN</td>\n",
       "    </tr>\n",
       "    <tr>\n",
       "      <th>5019</th>\n",
       "      <td>C00469924</td>\n",
       "      <td>CARLY FOR CALIFORNIA INC</td>\n",
       "      <td>FRANK SADLER</td>\n",
       "      <td>C/O COVE STRATEGIES</td>\n",
       "      <td>1020 BERNARD STREET</td>\n",
       "      <td>ALEXANDRIA</td>\n",
       "      <td>VA</td>\n",
       "      <td>22314</td>\n",
       "      <td>P</td>\n",
       "      <td>S</td>\n",
       "      <td>REP</td>\n",
       "      <td>T</td>\n",
       "      <td>NaN</td>\n",
       "      <td>NaN</td>\n",
       "      <td>S0CA00330</td>\n",
       "    </tr>\n",
       "    <tr>\n",
       "      <th>10535</th>\n",
       "      <td>C00576934</td>\n",
       "      <td>CALI FOR CARLY FIORINA</td>\n",
       "      <td>DAVE POPE</td>\n",
       "      <td>5042 WILSHIRE BLVD #14961</td>\n",
       "      <td>NaN</td>\n",
       "      <td>LOS ANGELES</td>\n",
       "      <td>CA</td>\n",
       "      <td>90036</td>\n",
       "      <td>U</td>\n",
       "      <td>N</td>\n",
       "      <td>NaN</td>\n",
       "      <td>T</td>\n",
       "      <td>NaN</td>\n",
       "      <td>NaN</td>\n",
       "      <td>NaN</td>\n",
       "    </tr>\n",
       "    <tr>\n",
       "      <th>10571</th>\n",
       "      <td>C00577312</td>\n",
       "      <td>CARLY FOR PRESIDENT</td>\n",
       "      <td>SCHMUCKLER, JOSEPH R</td>\n",
       "      <td>1020 N FAIRFAX ST</td>\n",
       "      <td>STE 200</td>\n",
       "      <td>ALEXANDRIA</td>\n",
       "      <td>VA</td>\n",
       "      <td>22314</td>\n",
       "      <td>P</td>\n",
       "      <td>P</td>\n",
       "      <td>REP</td>\n",
       "      <td>Q</td>\n",
       "      <td>NaN</td>\n",
       "      <td>NONE</td>\n",
       "      <td>P60007242</td>\n",
       "    </tr>\n",
       "  </tbody>\n",
       "</table>\n",
       "</div>"
      ],
      "text/plain": [
       "              0                                                  1   \\\n",
       "3502   C00417386  WOMBLE CARLYLE SANDRIDGE & RICE LLP POLITICAL ...   \n",
       "5019   C00469924                           CARLY FOR CALIFORNIA INC   \n",
       "10535  C00576934                             CALI FOR CARLY FIORINA   \n",
       "10571  C00577312                                CARLY FOR PRESIDENT   \n",
       "\n",
       "                         2                          3                    4   \\\n",
       "3502          FOSTER, HAILS     ONE WEST FOURTH STREET                  NaN   \n",
       "5019           FRANK SADLER        C/O COVE STRATEGIES  1020 BERNARD STREET   \n",
       "10535             DAVE POPE  5042 WILSHIRE BLVD #14961                  NaN   \n",
       "10571  SCHMUCKLER, JOSEPH R          1020 N FAIRFAX ST              STE 200   \n",
       "\n",
       "                  5   6      7  8  9    10 11   12    13         14  \n",
       "3502   WINSTON SALEM  NC  27101  B  Q  NaN  Q  NaN   NaN        NaN  \n",
       "5019      ALEXANDRIA  VA  22314  P  S  REP  T  NaN   NaN  S0CA00330  \n",
       "10535    LOS ANGELES  CA  90036  U  N  NaN  T  NaN   NaN        NaN  \n",
       "10571     ALEXANDRIA  VA  22314  P  P  REP  Q  NaN  NONE  P60007242  "
      ]
     },
     "metadata": {},
     "output_type": "display_data"
    }
   ],
   "source": [
    "candidateName = \"CARLY\"\n",
    "cand = dfList[1].loc[dfList[1][1].str.contains(candidateName, na=False), :]\n",
    "display.display(cand)\n",
    "comm = dfList[0].loc[dfList[0][1].str.contains(candidateName, na=False), :]\n",
    "display.display(comm)"
   ]
  },
  {
   "cell_type": "code",
   "execution_count": 246,
   "metadata": {
    "collapsed": false
   },
   "outputs": [
    {
     "data": {
      "text/plain": [
       "0                                         C00577312\n",
       "1                                                 N\n",
       "2                                              2015\n",
       "3                                                Q2\n",
       "4                                201507159000202958\n",
       "5                                                23\n",
       "6                                               F3P\n",
       "7                                                SB\n",
       "8     CHRIS WALTERS PROFESSIONAL VIDEO SERVICES INC\n",
       "9                                         WHITEHALL\n",
       "10                                               MD\n",
       "11                                            21161\n",
       "12                                       05/29/2015\n",
       "13                                           1529.4\n",
       "14                                              NaN\n",
       "15          EQUIPMENT RENTAL/TRAVEL/PHOTOGRAPHY SVC\n",
       "16                                              NaN\n",
       "17                                              NaN\n",
       "18                                              NaN\n",
       "19                                              NaN\n",
       "20                                              ORG\n",
       "21                              4071620151247301468\n",
       "22                                          1015551\n",
       "23                                            SB.45\n",
       "24                                              NaN\n",
       "25                                              NaN\n",
       "Name: 126893, dtype: object"
      ]
     },
     "execution_count": 246,
     "metadata": {},
     "output_type": "execute_result"
    }
   ],
   "source": [
    "## Let's search for contributions to that last one, \"CARLY FOR PRESIDENT\"\n",
    "candidate_id = candidate.iloc[3, 0]\n",
    "dfNum = 6\n",
    "f = dfList[dfNum].loc[:, 0].values == candidate_id\n",
    "df = dfList[dfNum].loc[f, :]\n",
    "df.iloc[0, :]"
   ]
  },
  {
   "cell_type": "markdown",
   "metadata": {},
   "source": [
    "We see that column 13 contains the contributions. What's the total?"
   ]
  },
  {
   "cell_type": "code",
   "execution_count": 247,
   "metadata": {
    "collapsed": false
   },
   "outputs": [
    {
     "data": {
      "text/plain": [
       "726989.85999999999"
      ]
     },
     "execution_count": 247,
     "metadata": {},
     "output_type": "execute_result"
    }
   ],
   "source": [
    "sum(df.iloc[:, 13])"
   ]
  },
  {
   "cell_type": "markdown",
   "metadata": {},
   "source": [
    "There will be a bit more work to join the data in an appropriate manner, but it looks like we have what we need.\n",
    "\n",
    "Okay, so we have data that we can work with, now what?"
   ]
  },
  {
   "cell_type": "markdown",
   "metadata": {},
   "source": [
    "## Centrality Measures"
   ]
  },
  {
   "cell_type": "markdown",
   "metadata": {},
   "source": [
    "First, how do we load our data into a graph database?\n",
    "\n",
    "Nodes: \n",
    ">We represent each person or committee as a node. This node would have an attribute associated with it identifying it as a {candidate, contributor, committee}. We might also add other attributes like state, and zip code.\n",
    "\n",
    "Edges:\n",
    ">We then create and edge for each donation made. The edge would also be weighted by the amount of the donation. We also might add other attributes like date.\n",
    "\n",
    "Now what might we expect to see?\n",
    "\n",
    ">If we measure centrality by degree, we might get a sense of which candidates are getting the most **number** of donations. If we include the weight of the donation, we can also get a sense of which candidate is raising the most money.\n",
    "\n",
    "Potential Issues:\n",
    ">This network involves heterogeneous nodes, which may cause issues. For one, I think it won't be possible to compare the centrality of candidates with that of donors or committees. It's possible there will be other unforeseen (at least by me) issues.\n"
   ]
  }
 ],
 "metadata": {
  "kernelspec": {
   "display_name": "Python 2",
   "language": "python",
   "name": "python2"
  },
  "language_info": {
   "codemirror_mode": {
    "name": "ipython",
    "version": 2
   },
   "file_extension": ".py",
   "mimetype": "text/x-python",
   "name": "python",
   "nbconvert_exporter": "python",
   "pygments_lexer": "ipython2",
   "version": "2.7.9"
  }
 },
 "nbformat": 4,
 "nbformat_minor": 0
}
